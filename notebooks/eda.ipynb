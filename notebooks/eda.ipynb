{
 "cells": [
  {
   "cell_type": "markdown",
   "id": "0",
   "metadata": {},
   "source": [
    "# Project Initialisation"
   ]
  },
  {
   "cell_type": "code",
   "execution_count": null,
   "id": "1",
   "metadata": {},
   "outputs": [],
   "source": [
    "# Kedro \n",
    "import os\n",
    "import sys\n",
    "from pathlib import Path\n",
    "\n",
    "# Set Kedro project path\n",
    "project_path = Path.cwd().parent\n",
    "\n",
    "# Bootstrap Kedro\n",
    "from kedro.framework.startup import bootstrap_project\n",
    "from kedro.framework.session import KedroSession\n",
    "\n",
    "bootstrap_project(project_path)\n",
    "session = KedroSession.create(project_path=project_path)\n",
    "context = session.load_context()\n",
    "catalog = context.catalog\n",
    "\n",
    "# Add src/ to Python path\n",
    "sys.path.append(str(project_path / \"src\"))"
   ]
  },
  {
   "cell_type": "code",
   "execution_count": null,
   "id": "2",
   "metadata": {},
   "outputs": [],
   "source": [
    "# Import full modules (for reload)\n",
    "import egt305_job_market_analysis.utils.etl as etl\n",
    "import egt305_job_market_analysis.utils.viz as viz\n",
    "\n",
    "import importlib\n",
    "importlib.reload(etl)\n",
    "importlib.reload(viz)\n",
    "\n",
    "# Set custom plot style for consistency\n",
    "viz.set_plot_style()"
   ]
  },
  {
   "cell_type": "markdown",
   "id": "3",
   "metadata": {},
   "source": [
    "# Data Injestion"
   ]
  },
  {
   "cell_type": "code",
   "execution_count": null,
   "id": "4",
   "metadata": {},
   "outputs": [],
   "source": [
    "# Loading Datasets\n",
    "df_employee = catalog.load(\"employee_dataset\")\n",
    "df_salary = catalog.load(\"employee_salaries\")"
   ]
  },
  {
   "cell_type": "markdown",
   "id": "5",
   "metadata": {},
   "source": [
    "# EDA"
   ]
  },
  {
   "cell_type": "markdown",
   "id": "6",
   "metadata": {},
   "source": [
    "## Employee Dataset"
   ]
  },
  {
   "cell_type": "markdown",
   "id": "7",
   "metadata": {},
   "source": [
    "### Initial Inspection"
   ]
  },
  {
   "cell_type": "code",
   "execution_count": null,
   "id": "8",
   "metadata": {},
   "outputs": [],
   "source": [
    "import pandas as pd\n",
    "from IPython.display import display\n",
    "\n",
    "# Inspecting the employee dataset for basic information & statistics\n",
    "\n",
    "# Shape of the dataset\n",
    "print(f\"Dataset shape: {df_employee.shape}\")\n",
    "\n",
    "# 2. Preview first 5 rows\n",
    "display(df_employee.head())\n",
    "\n",
    "# 3. Column names and data types\n",
    "df_employee.info()\n",
    "\n",
    "# 4. Descriptive statistics for numerical and categorical features\n",
    "display(df_employee.describe(include='all'))\n",
    "\n",
    "# 5. Check for missing values\n",
    "missing_counts = df_employee.isnull().sum()\n",
    "missing_perc = (missing_counts / len(df_employee) * 100).round(2)\n",
    "missing_df = pd.DataFrame({'Missing Count': missing_counts, 'Missing %': missing_perc})\n",
    "display(missing_df[missing_df['Missing Count'] > 0])\n"
   ]
  },
  {
   "cell_type": "markdown",
   "id": "9",
   "metadata": {},
   "source": [
    "Initial issues or anomalies detected.\n",
    "\n",
    "- Column names are not in a standard format as they have upper & lower case\n",
    "- Data entries are unecessarily complex i.e. COMP37 as they could just be 37\n",
    "- Columns are not in the correct dtype\n",
    "- distanceFromCBD has a very large difference from 75% to MAX indicating high value outliers\n",
    "- missing data in multiple columns"
   ]
  },
  {
   "cell_type": "markdown",
   "id": "10",
   "metadata": {},
   "source": [
    "### Fixing data structure errors"
   ]
  },
  {
   "cell_type": "code",
   "execution_count": null,
   "id": "11",
   "metadata": {},
   "outputs": [],
   "source": [
    "# initial column names from data description\n",
    "# standardizing column names for consistency\n",
    "df_employee.rename(columns={\n",
    "    'jobId': 'job_id',\n",
    "    'companyId': 'company_id',\n",
    "    'jobRole': 'job_role',\n",
    "    'education': 'education',\n",
    "    'major': 'major',\n",
    "    'Industry': 'industry',\n",
    "    'yearsExperience': 'years_experience',\n",
    "    'distanceFromCBD': 'distance_from_cbd'\n",
    "}, inplace=True)\n",
    "\n",
    "df_employee.head(2)"
   ]
  },
  {
   "cell_type": "markdown",
   "id": "12",
   "metadata": {},
   "source": [
    "Fixed column names to be more standardized"
   ]
  },
  {
   "cell_type": "code",
   "execution_count": null,
   "id": "13",
   "metadata": {},
   "outputs": [],
   "source": [
    "# Check value counts for company_id including NaN\n",
    "company_counts = df_employee['company_id'].value_counts(dropna=False)\n",
    "\n",
    "display(company_counts)\n",
    "print(f\"Unique company_id count (including NaN): {df_employee['company_id'].nunique(dropna=False)}\")"
   ]
  },
  {
   "cell_type": "markdown",
   "id": "14",
   "metadata": {},
   "source": [
    "Checking the various unique entries as well as ensuring the prefix is COMP for all, as well as keeping a before prefix drop state."
   ]
  },
  {
   "cell_type": "code",
   "execution_count": null,
   "id": "15",
   "metadata": {},
   "outputs": [],
   "source": [
    "# Remove 'COMP' prefix and convert to integer\n",
    "df_employee['company_id'] = (\n",
    "    df_employee['company_id']\n",
    "    .astype(str)\n",
    "    .str.replace('COMP', '', regex=False)\n",
    "    .replace('<NA>', pd.NA)  # make sure string '<NA>' is real missing value\n",
    "    .astype('Int64')  # nullable integer dtype\n",
    ")"
   ]
  },
  {
   "cell_type": "code",
   "execution_count": null,
   "id": "16",
   "metadata": {},
   "outputs": [],
   "source": [
    "# Check value counts for company_id including NaN\n",
    "company_counts = df_employee['company_id'].value_counts(dropna=False)\n",
    "\n",
    "display(company_counts)\n",
    "print(f\"Unique company_id count (including NaN): {df_employee['company_id'].nunique(dropna=False)}\")"
   ]
  },
  {
   "cell_type": "markdown",
   "id": "17",
   "metadata": {},
   "source": [
    "Fixed company id column to be more model friendly whilst maintaining all entries including NA (to be dealt with when handling missing or dupe data)"
   ]
  },
  {
   "cell_type": "code",
   "execution_count": null,
   "id": "18",
   "metadata": {},
   "outputs": [],
   "source": [
    "# Identify string/object columns, excluding job_id\n",
    "string_cols = [col for col in df_employee.select_dtypes(include='string').columns if col != 'job_id']\n",
    "\n",
    "# Display unique values for each string column\n",
    "for col in string_cols:\n",
    "    # Convert to string for consistent viewing\n",
    "    temp_series = df_employee[col].astype(str)\n",
    "    \n",
    "    print(f\"\\n--- {col} ---\")\n",
    "    print(f\"Unique values: {temp_series.nunique(dropna=False)}\")\n",
    "    print(temp_series.value_counts(dropna=False))\n"
   ]
  },
  {
   "cell_type": "markdown",
   "id": "19",
   "metadata": {},
   "source": [
    "- job_role column seems to have a good spread of job roles except for a sole exception which is the president job role but all roles are valid and do not have semantic overlap. Some missing data but will be handled later.\n",
    "\n",
    "- education column has a large amount of missing data which is labeled as NONE and NA which will be handled in missing data section. Good spread of data without any semantic overlap.\n",
    "\n",
    "- major column has a similar issue with education column with missing data with 2 different labels but aside from missing data, there is a good spread of data among the categories with no semantic overlap.\n",
    "\n",
    "- industry column has a similar issue with job_role column. One singular entry in a category i.e. governement. However, there is a good spread of data."
   ]
  },
  {
   "cell_type": "markdown",
   "id": "20",
   "metadata": {},
   "source": [
    "## "
   ]
  }
 ],
 "metadata": {
  "kernelspec": {
   "display_name": "big-data",
   "language": "python",
   "name": "python3"
  },
  "language_info": {
   "codemirror_mode": {
    "name": "ipython",
    "version": 3
   },
   "file_extension": ".py",
   "mimetype": "text/x-python",
   "name": "python",
   "nbconvert_exporter": "python",
   "pygments_lexer": "ipython3",
   "version": "3.12.11"
  }
 },
 "nbformat": 4,
 "nbformat_minor": 5
}
