{
 "cells": [
  {
   "cell_type": "markdown",
   "id": "0",
   "metadata": {},
   "source": [
    "# Project Initialisation"
   ]
  },
  {
   "cell_type": "code",
   "execution_count": null,
   "id": "1",
   "metadata": {},
   "outputs": [],
   "source": [
    "# Kedro + PySpark + EDA Notebook Bootstrap (Kedro 1.0)\n",
    "import os\n",
    "import sys\n",
    "from pathlib import Path\n",
    "\n",
    "# Set Kedro project path\n",
    "project_path = Path.cwd().parent\n",
    "\n",
    "# Bootstrap Kedro\n",
    "from kedro.framework.startup import bootstrap_project\n",
    "from kedro.framework.session import KedroSession\n",
    "\n",
    "bootstrap_project(project_path)\n",
    "session = KedroSession.create(project_path=project_path)\n",
    "context = session.load_context()\n",
    "catalog = context.catalog\n",
    "\n",
    "# Add src/ to Python path\n",
    "sys.path.append(str(project_path / \"src\"))\n",
    "\n",
    "# PySpark session\n",
    "from pyspark.sql import SparkSession\n",
    "\n",
    "spark = SparkSession.builder.appName(\"EGT305_EDA\").getOrCreate()"
   ]
  },
  {
   "cell_type": "code",
   "execution_count": null,
   "id": "2",
   "metadata": {},
   "outputs": [],
   "source": [
    "# Import full modules (for reload)\n",
    "import caie_nyp_batch3_mohammad_habib_410d.utils.etl as etl\n",
    "import caie_nyp_batch3_mohammad_habib_410d.utils.viz as viz\n",
    "\n",
    "import importlib\n",
    "importlib.reload(etl)\n",
    "importlib.reload(viz)\n",
    "\n",
    "# Set custom plot style for consistency\n",
    "viz.set_plot_style()"
   ]
  },
  {
   "cell_type": "markdown",
   "id": "3",
   "metadata": {},
   "source": [
    "# Data Exploration Using Spark"
   ]
  },
  {
   "cell_type": "code",
   "execution_count": null,
   "id": "4",
   "metadata": {},
   "outputs": [],
   "source": [
    "# Loading Datasets\n",
    "df_employee = catalog.load(\"employee_dataset\")\n",
    "df_salaries = catalog.load(\"employee_salaries\")"
   ]
  },
  {
   "cell_type": "markdown",
   "id": "5",
   "metadata": {},
   "source": [
    "## Employee Dataset Exploration"
   ]
  },
  {
   "cell_type": "code",
   "execution_count": null,
   "id": "6",
   "metadata": {},
   "outputs": [],
   "source": [
    "# Basic structure\n",
    "print(\"Shape:\", df_employee.shape)\n",
    "display(df_employee.head())\n",
    "\n",
    "# Column overview\n",
    "df_employee.info()\n",
    "\n",
    "# Missing values\n",
    "print(\"\\nMissing values:\")\n",
    "display(df_employee.isnull().sum())\n",
    "\n",
    "# Duplicates\n",
    "print(\"\\nDuplicate rows:\", df_employee.duplicated().sum())\n",
    "\n",
    "# Unique values\n",
    "print(\"\\nUnique values per column:\")\n",
    "display(df_employee.nunique())\n",
    "\n",
    "# Descriptive statistics for numeric columns\n",
    "display(df_employee.describe())\n",
    "\n",
    "# Count of values for key categorical features\n",
    "categorical_cols = [\"companyId\", \"jobRole\", \"education\", \"major\", \"industry\"]\n",
    "for col in categorical_cols:\n",
    "    print(f\"\\nValue counts for '{col}':\")\n",
    "    display(df_employee[col].value_counts().head(10))\n"
   ]
  }
 ],
 "metadata": {
  "kernelspec": {
   "display_name": "big_data",
   "language": "python",
   "name": "python3"
  },
  "language_info": {
   "codemirror_mode": {
    "name": "ipython",
    "version": 3
   },
   "file_extension": ".py",
   "mimetype": "text/x-python",
   "name": "python",
   "nbconvert_exporter": "python",
   "pygments_lexer": "ipython3",
   "version": "3.13.5"
  }
 },
 "nbformat": 4,
 "nbformat_minor": 5
}
